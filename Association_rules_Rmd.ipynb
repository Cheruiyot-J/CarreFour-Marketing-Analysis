{
  "nbformat": 4,
  "nbformat_minor": 0,
  "metadata": {
    "colab": {
      "name": "Association_rules.Rmd",
      "provenance": [],
      "collapsed_sections": []
    },
    "kernelspec": {
      "name": "ir",
      "display_name": "R"
    },
    "language_info": {
      "name": "R"
    },
    "accelerator": "GPU"
  },
  "cells": [
    {
      "cell_type": "markdown",
      "metadata": {
        "id": "yx1K6eYuf8Le"
      },
      "source": [
        "##  CarreFour Kenya Sales increment strategies .\n",
        "### 1. Research Question\n",
        "DA data analyst at Carrefour Kenya and are currently undertaking a project that will inform the marketing department on the most relevant marketing strategies that will result in the highest no. of sales (total price including tax).\n",
        "\n",
        "\n",
        "### 2. Metric of Success\n",
        "\n",
        "Identify the association rules of product transactions in the store.\n",
        "\n",
        "### 3. Understanding the context.\n",
        "The provided data has been acquired from the carre four stores in Kenya of transactions that have been made over time and my goal of \n",
        "this research is to come up with insights from the analysis.\n",
        "\n",
        "### 4. Recording the Experimental Design\n",
        "\n",
        "a. Data Loading\n",
        "b. Data Cleaning and preprocessing\n",
        "c. Exploratory Data Analysis\n",
        "d. Associative rules implememntation\n",
        "e. Recommendations and Conclusions.\n",
        "\n",
        "### 5. Data Relevance.\n",
        "\n",
        "The provided data is relevant for this kind of study since it has a reflection of how current transactions happen and the association it portrays.\n",
        "\n",
        "### Data Preview"
      ]
    },
    {
      "cell_type": "markdown",
      "metadata": {
        "id": "ojfVBRJZgDK_"
      },
      "source": [
        "#### Loading the libraries"
      ]
    },
    {
      "cell_type": "code",
      "metadata": {
        "colab": {
          "base_uri": "https://localhost:8080/"
        },
        "id": "JsKMPhhbgBmO",
        "outputId": "fe0c81f2-70a0-447b-f0bf-5cdf55f80d5b"
      },
      "source": [
        "\n",
        "library(modelr)\n",
        "library(broom)\n",
        "library(rpart)\n",
        "library(ggplot2)\n",
        "library(dplyr)\n",
        "library(data.table)\n",
        "library(tidyverse)\n"
      ],
      "execution_count": null,
      "outputs": [
        {
          "output_type": "stream",
          "name": "stderr",
          "text": [
            "\n",
            "Attaching package: ‘dplyr’\n",
            "\n",
            "\n",
            "The following objects are masked from ‘package:stats’:\n",
            "\n",
            "    filter, lag\n",
            "\n",
            "\n",
            "The following objects are masked from ‘package:base’:\n",
            "\n",
            "    intersect, setdiff, setequal, union\n",
            "\n",
            "\n",
            "\n",
            "Attaching package: ‘data.table’\n",
            "\n",
            "\n",
            "The following objects are masked from ‘package:dplyr’:\n",
            "\n",
            "    between, first, last\n",
            "\n",
            "\n",
            "Warning message in system(\"timedatectl\", intern = TRUE):\n",
            "“running command 'timedatectl' had status 1”\n",
            "── \u001b[1mAttaching packages\u001b[22m ─────────────────────────────────────── tidyverse 1.3.1 ──\n",
            "\n",
            "\u001b[32m✔\u001b[39m \u001b[34mtibble \u001b[39m 3.1.6     \u001b[32m✔\u001b[39m \u001b[34mpurrr  \u001b[39m 0.3.4\n",
            "\u001b[32m✔\u001b[39m \u001b[34mtidyr  \u001b[39m 1.1.4     \u001b[32m✔\u001b[39m \u001b[34mstringr\u001b[39m 1.4.0\n",
            "\u001b[32m✔\u001b[39m \u001b[34mreadr  \u001b[39m 2.1.0     \u001b[32m✔\u001b[39m \u001b[34mforcats\u001b[39m 0.5.1\n",
            "\n",
            "── \u001b[1mConflicts\u001b[22m ────────────────────────────────────────── tidyverse_conflicts() ──\n",
            "\u001b[31m✖\u001b[39m \u001b[34mdata.table\u001b[39m::\u001b[32mbetween()\u001b[39m masks \u001b[34mdplyr\u001b[39m::between()\n",
            "\u001b[31m✖\u001b[39m \u001b[34mbroom\u001b[39m::\u001b[32mbootstrap()\u001b[39m    masks \u001b[34mmodelr\u001b[39m::bootstrap()\n",
            "\u001b[31m✖\u001b[39m \u001b[34mdplyr\u001b[39m::\u001b[32mfilter()\u001b[39m       masks \u001b[34mstats\u001b[39m::filter()\n",
            "\u001b[31m✖\u001b[39m \u001b[34mdata.table\u001b[39m::\u001b[32mfirst()\u001b[39m   masks \u001b[34mdplyr\u001b[39m::first()\n",
            "\u001b[31m✖\u001b[39m \u001b[34mdplyr\u001b[39m::\u001b[32mlag()\u001b[39m          masks \u001b[34mstats\u001b[39m::lag()\n",
            "\u001b[31m✖\u001b[39m \u001b[34mdata.table\u001b[39m::\u001b[32mlast()\u001b[39m    masks \u001b[34mdplyr\u001b[39m::last()\n",
            "\u001b[31m✖\u001b[39m \u001b[34mpurrr\u001b[39m::\u001b[32mtranspose()\u001b[39m    masks \u001b[34mdata.table\u001b[39m::transpose()\n",
            "\n"
          ]
        }
      ]
    },
    {
      "cell_type": "code",
      "metadata": {
        "colab": {
          "base_uri": "https://localhost:8080/"
        },
        "id": "tb7CXuC0jU8z",
        "outputId": "84b6c2ee-f177-4537-adf4-0c2bd56c486a"
      },
      "source": [
        "install.packages(\"caret\")\n",
        "install.packages(\"Amelia\")\n",
        "install.packages(\"arules\")"
      ],
      "execution_count": null,
      "outputs": [
        {
          "output_type": "stream",
          "name": "stderr",
          "text": [
            "Installing package into ‘/usr/local/lib/R/site-library’\n",
            "(as ‘lib’ is unspecified)\n",
            "\n",
            "also installing the dependencies ‘listenv’, ‘parallelly’, ‘future’, ‘globals’, ‘future.apply’, ‘progressr’, ‘numDeriv’, ‘SQUAREM’, ‘lava’, ‘prodlim’, ‘proxy’, ‘iterators’, ‘gower’, ‘ipred’, ‘timeDate’, ‘e1071’, ‘foreach’, ‘ModelMetrics’, ‘plyr’, ‘pROC’, ‘recipes’, ‘reshape2’\n",
            "\n",
            "\n",
            "Installing package into ‘/usr/local/lib/R/site-library’\n",
            "(as ‘lib’ is unspecified)\n",
            "\n",
            "also installing the dependency ‘RcppArmadillo’\n",
            "\n",
            "\n",
            "Installing package into ‘/usr/local/lib/R/site-library’\n",
            "(as ‘lib’ is unspecified)\n",
            "\n"
          ]
        }
      ]
    },
    {
      "cell_type": "code",
      "metadata": {
        "colab": {
          "base_uri": "https://localhost:8080/"
        },
        "id": "bHfYyrdeozQT",
        "outputId": "b78e4129-8f17-4bd1-f191-d7a58ad4baa9"
      },
      "source": [
        "install.packages(\"data.table\")\n",
        "library(\"data.table\")"
      ],
      "execution_count": null,
      "outputs": [
        {
          "output_type": "stream",
          "name": "stderr",
          "text": [
            "Installing package into ‘/usr/local/lib/R/site-library’\n",
            "(as ‘lib’ is unspecified)\n",
            "\n"
          ]
        }
      ]
    },
    {
      "cell_type": "code",
      "metadata": {
        "colab": {
          "base_uri": "https://localhost:8080/",
          "height": 250
        },
        "id": "ordafzt5f72N",
        "outputId": "38f12920-d5c0-48b6-d31c-473e02e90589"
      },
      "source": [
        "sales <- fread('http://bit.ly/SupermarketDatasetII')\n",
        "head(sales)"
      ],
      "execution_count": null,
      "outputs": [
        {
          "output_type": "stream",
          "name": "stderr",
          "text": [
            "Warning message in fread(\"http://bit.ly/SupermarketDatasetII\"):\n",
            "“Detected 2 column names but the data has 3 columns (i.e. invalid file). Added 1 extra default column name for the first column which is guessed to be row names or an index. Use setnames() afterwards if this guess is not correct, or fix the file write command that created the file to create a valid file.”\n",
            "Warning message in fread(\"http://bit.ly/SupermarketDatasetII\"):\n",
            "“Stopped early on line 10. Expected 3 fields but found 1. Consider fill=TRUE and comment.char=. First discarded non-empty line: <<french fries>>”\n"
          ]
        },
        {
          "output_type": "display_data",
          "data": {
            "text/plain": [
              "  V1                whole wheat pasta french fries\n",
              "1 soup              light cream       shallot     \n",
              "2 frozen vegetables spaghetti         green tea   "
            ],
            "text/latex": "A data.table: 2 × 3\n\\begin{tabular}{lll}\n V1 & whole wheat pasta & french fries\\\\\n <chr> & <chr> & <chr>\\\\\n\\hline\n\t soup              & light cream & shallot  \\\\\n\t frozen vegetables & spaghetti   & green tea\\\\\n\\end{tabular}\n",
            "text/markdown": "\nA data.table: 2 × 3\n\n| V1 &lt;chr&gt; | whole wheat pasta &lt;chr&gt; | french fries &lt;chr&gt; |\n|---|---|---|\n| soup              | light cream | shallot   |\n| frozen vegetables | spaghetti   | green tea |\n\n",
            "text/html": [
              "<table class=\"dataframe\">\n",
              "<caption>A data.table: 2 × 3</caption>\n",
              "<thead>\n",
              "\t<tr><th scope=col>V1</th><th scope=col>whole wheat pasta</th><th scope=col>french fries</th></tr>\n",
              "\t<tr><th scope=col>&lt;chr&gt;</th><th scope=col>&lt;chr&gt;</th><th scope=col>&lt;chr&gt;</th></tr>\n",
              "</thead>\n",
              "<tbody>\n",
              "\t<tr><td>soup             </td><td>light cream</td><td>shallot  </td></tr>\n",
              "\t<tr><td>frozen vegetables</td><td>spaghetti  </td><td>green tea</td></tr>\n",
              "</tbody>\n",
              "</table>\n"
            ]
          },
          "metadata": {}
        }
      ]
    },
    {
      "cell_type": "code",
      "metadata": {
        "colab": {
          "base_uri": "https://localhost:8080/"
        },
        "id": "PWVoQM28g6tm",
        "outputId": "9c9f261d-4eed-4848-86ca-bdfc46a63e7a"
      },
      "source": [
        "# checking out the dataset\n",
        "str(sales)"
      ],
      "execution_count": null,
      "outputs": [
        {
          "output_type": "stream",
          "name": "stdout",
          "text": [
            "Classes ‘data.table’ and 'data.frame':\t2 obs. of  3 variables:\n",
            " $ V1               : chr  \"soup\" \"frozen vegetables\"\n",
            " $ whole wheat pasta: chr  \"light cream\" \"spaghetti\"\n",
            " $ french fries     : chr  \"shallot\" \"green tea\"\n",
            " - attr(*, \".internal.selfref\")=<externalptr> \n"
          ]
        }
      ]
    },
    {
      "cell_type": "code",
      "metadata": {
        "colab": {
          "base_uri": "https://localhost:8080/",
          "height": 104
        },
        "id": "bWI7dR9jhBMC",
        "outputId": "036f9567-e1c3-44bb-d91c-cf2c434ff2f3"
      },
      "source": [
        "# Converting entries to transactions.\n",
        "library(arules)\n",
        "path <-\"http://bit.ly/SupermarketDatasetII\"\n",
        "# Transactions<-read.transactions(path, sep = \"\\t\", header=\"TRUE\")\n",
        "Transactions<-read.transactions(path, sep = \",\")\n",
        "Transactions"
      ],
      "execution_count": null,
      "outputs": [
        {
          "output_type": "stream",
          "name": "stderr",
          "text": [
            "Warning message in asMethod(object):\n",
            "“removing duplicated items in transactions”\n"
          ]
        },
        {
          "output_type": "display_data",
          "data": {
            "text/plain": [
              "transactions in sparse format with\n",
              " 7501 transactions (rows) and\n",
              " 119 items (columns)"
            ]
          },
          "metadata": {}
        }
      ]
    },
    {
      "cell_type": "code",
      "metadata": {
        "colab": {
          "base_uri": "https://localhost:8080/",
          "height": 34
        },
        "id": "rPd9MmFGhNr7",
        "outputId": "03ec446f-1cc8-4a77-c0ef-77dd2d9d55ad"
      },
      "source": [
        "# Verifying the object's class\n",
        "class(Transactions)\n"
      ],
      "execution_count": null,
      "outputs": [
        {
          "output_type": "display_data",
          "data": {
            "text/plain": [
              "[1] \"transactions\"\n",
              "attr(,\"package\")\n",
              "[1] \"arules\""
            ],
            "text/latex": "'transactions'",
            "text/markdown": "'transactions'",
            "text/html": [
              "'transactions'"
            ]
          },
          "metadata": {}
        }
      ]
    },
    {
      "cell_type": "code",
      "metadata": {
        "colab": {
          "base_uri": "https://localhost:8080/"
        },
        "id": "6-Mtkz8Xm4-X",
        "outputId": "c9a47485-34db-4355-847e-3b7e44dd3e0c"
      },
      "source": [
        "# previewing our first 5 transations.\n",
        "inspect(Transactions[1:5])"
      ],
      "execution_count": null,
      "outputs": [
        {
          "output_type": "stream",
          "name": "stdout",
          "text": [
            "    items               \n",
            "[1] {almonds,           \n",
            "     antioxydant juice, \n",
            "     avocado,           \n",
            "     cottage cheese,    \n",
            "     energy drink,      \n",
            "     frozen smoothie,   \n",
            "     green grapes,      \n",
            "     green tea,         \n",
            "     honey,             \n",
            "     low fat yogurt,    \n",
            "     mineral water,     \n",
            "     olive oil,         \n",
            "     salad,             \n",
            "     salmon,            \n",
            "     shrimp,            \n",
            "     spinach,           \n",
            "     tomato juice,      \n",
            "     vegetables mix,    \n",
            "     whole weat flour,  \n",
            "     yams}              \n",
            "[2] {burgers,           \n",
            "     eggs,              \n",
            "     meatballs}         \n",
            "[3] {chutney}           \n",
            "[4] {avocado,           \n",
            "     turkey}            \n",
            "[5] {energy bar,        \n",
            "     green tea,         \n",
            "     milk,              \n",
            "     mineral water,     \n",
            "     whole wheat rice}  \n"
          ]
        }
      ]
    },
    {
      "cell_type": "code",
      "metadata": {
        "colab": {
          "base_uri": "https://localhost:8080/",
          "height": 412
        },
        "id": "qSRyUFwlnC15",
        "outputId": "df57968d-f9c0-497f-ecee-aff08292b7b7"
      },
      "source": [
        "# Previewing items that make up our dataset\n",
        "\n",
        "items<-as.data.frame(itemLabels(Transactions))\n",
        "colnames(items) <- \"Item\"\n",
        "head(items, 10)"
      ],
      "execution_count": null,
      "outputs": [
        {
          "output_type": "display_data",
          "data": {
            "text/plain": [
              "   Item             \n",
              "1  almonds          \n",
              "2  antioxydant juice\n",
              "3  asparagus        \n",
              "4  avocado          \n",
              "5  babies food      \n",
              "6  bacon            \n",
              "7  barbecue sauce   \n",
              "8  black tea        \n",
              "9  blueberries      \n",
              "10 body spray       "
            ],
            "text/latex": "A data.frame: 10 × 1\n\\begin{tabular}{r|l}\n  & Item\\\\\n  & <chr>\\\\\n\\hline\n\t1 & almonds          \\\\\n\t2 & antioxydant juice\\\\\n\t3 & asparagus        \\\\\n\t4 & avocado          \\\\\n\t5 & babies food      \\\\\n\t6 & bacon            \\\\\n\t7 & barbecue sauce   \\\\\n\t8 & black tea        \\\\\n\t9 & blueberries      \\\\\n\t10 & body spray       \\\\\n\\end{tabular}\n",
            "text/markdown": "\nA data.frame: 10 × 1\n\n| <!--/--> | Item &lt;chr&gt; |\n|---|---|\n| 1 | almonds           |\n| 2 | antioxydant juice |\n| 3 | asparagus         |\n| 4 | avocado           |\n| 5 | babies food       |\n| 6 | bacon             |\n| 7 | barbecue sauce    |\n| 8 | black tea         |\n| 9 | blueberries       |\n| 10 | body spray        |\n\n",
            "text/html": [
              "<table class=\"dataframe\">\n",
              "<caption>A data.frame: 10 × 1</caption>\n",
              "<thead>\n",
              "\t<tr><th></th><th scope=col>Item</th></tr>\n",
              "\t<tr><th></th><th scope=col>&lt;chr&gt;</th></tr>\n",
              "</thead>\n",
              "<tbody>\n",
              "\t<tr><th scope=row>1</th><td>almonds          </td></tr>\n",
              "\t<tr><th scope=row>2</th><td>antioxydant juice</td></tr>\n",
              "\t<tr><th scope=row>3</th><td>asparagus        </td></tr>\n",
              "\t<tr><th scope=row>4</th><td>avocado          </td></tr>\n",
              "\t<tr><th scope=row>5</th><td>babies food      </td></tr>\n",
              "\t<tr><th scope=row>6</th><td>bacon            </td></tr>\n",
              "\t<tr><th scope=row>7</th><td>barbecue sauce   </td></tr>\n",
              "\t<tr><th scope=row>8</th><td>black tea        </td></tr>\n",
              "\t<tr><th scope=row>9</th><td>blueberries      </td></tr>\n",
              "\t<tr><th scope=row>10</th><td>body spray       </td></tr>\n",
              "</tbody>\n",
              "</table>\n"
            ]
          },
          "metadata": {}
        }
      ]
    },
    {
      "cell_type": "code",
      "metadata": {
        "colab": {
          "base_uri": "https://localhost:8080/",
          "height": 451
        },
        "id": "tzXDV2NAnLb-",
        "outputId": "7e30e3f5-e0bf-418e-c9fb-bf1a27d64a5f"
      },
      "source": [
        "# summary of the transaction dataset.\n",
        "summary(Transactions)"
      ],
      "execution_count": null,
      "outputs": [
        {
          "output_type": "display_data",
          "data": {
            "text/plain": [
              "transactions as itemMatrix in sparse format with\n",
              " 7501 rows (elements/itemsets/transactions) and\n",
              " 119 columns (items) and a density of 0.03288973 \n",
              "\n",
              "most frequent items:\n",
              "mineral water          eggs     spaghetti  french fries     chocolate \n",
              "         1788          1348          1306          1282          1229 \n",
              "      (Other) \n",
              "        22405 \n",
              "\n",
              "element (itemset/transaction) length distribution:\n",
              "sizes\n",
              "   1    2    3    4    5    6    7    8    9   10   11   12   13   14   15   16 \n",
              "1754 1358 1044  816  667  493  391  324  259  139  102   67   40   22   17    4 \n",
              "  18   19   20 \n",
              "   1    2    1 \n",
              "\n",
              "   Min. 1st Qu.  Median    Mean 3rd Qu.    Max. \n",
              "  1.000   2.000   3.000   3.914   5.000  20.000 \n",
              "\n",
              "includes extended item information - examples:\n",
              "             labels\n",
              "1           almonds\n",
              "2 antioxydant juice\n",
              "3         asparagus"
            ]
          },
          "metadata": {}
        }
      ]
    },
    {
      "cell_type": "code",
      "metadata": {
        "colab": {
          "base_uri": "https://localhost:8080/",
          "height": 52
        },
        "id": "PIsk_W5fnLYq",
        "outputId": "24344765-17f6-48b9-ede6-3e35c2d72bfa"
      },
      "source": [
        "# Exploring frequency of some articles at index 3 to 8.\n",
        "\n",
        "itemFrequency(Transactions[, 3:8],type = \"absolute\")\n",
        "round(itemFrequency(Transactions[, 3:8],type = \"relative\")*100,2)"
      ],
      "execution_count": null,
      "outputs": [
        {
          "output_type": "display_data",
          "data": {
            "text/plain": [
              "     asparagus        avocado    babies food          bacon barbecue sauce \n",
              "            36            250             34             65             81 \n",
              "     black tea \n",
              "           107 "
            ],
            "text/latex": "\\begin{description*}\n\\item[asparagus] 36\n\\item[avocado] 250\n\\item[babies food] 34\n\\item[bacon] 65\n\\item[barbecue sauce] 81\n\\item[black tea] 107\n\\end{description*}\n",
            "text/markdown": "asparagus\n:   36avocado\n:   250babies food\n:   34bacon\n:   65barbecue sauce\n:   81black tea\n:   107\n\n",
            "text/html": [
              "<style>\n",
              ".dl-inline {width: auto; margin:0; padding: 0}\n",
              ".dl-inline>dt, .dl-inline>dd {float: none; width: auto; display: inline-block}\n",
              ".dl-inline>dt::after {content: \":\\0020\"; padding-right: .5ex}\n",
              ".dl-inline>dt:not(:first-of-type) {padding-left: .5ex}\n",
              "</style><dl class=dl-inline><dt>asparagus</dt><dd>36</dd><dt>avocado</dt><dd>250</dd><dt>babies food</dt><dd>34</dd><dt>bacon</dt><dd>65</dd><dt>barbecue sauce</dt><dd>81</dd><dt>black tea</dt><dd>107</dd></dl>\n"
            ]
          },
          "metadata": {}
        },
        {
          "output_type": "display_data",
          "data": {
            "text/plain": [
              "     asparagus        avocado    babies food          bacon barbecue sauce \n",
              "          0.48           3.33           0.45           0.87           1.08 \n",
              "     black tea \n",
              "          1.43 "
            ],
            "text/latex": "\\begin{description*}\n\\item[asparagus] 0.48\n\\item[avocado] 3.33\n\\item[babies food] 0.45\n\\item[bacon] 0.87\n\\item[barbecue sauce] 1.08\n\\item[black tea] 1.43\n\\end{description*}\n",
            "text/markdown": "asparagus\n:   0.48avocado\n:   3.33babies food\n:   0.45bacon\n:   0.87barbecue sauce\n:   1.08black tea\n:   1.43\n\n",
            "text/html": [
              "<style>\n",
              ".dl-inline {width: auto; margin:0; padding: 0}\n",
              ".dl-inline>dt, .dl-inline>dd {float: none; width: auto; display: inline-block}\n",
              ".dl-inline>dt::after {content: \":\\0020\"; padding-right: .5ex}\n",
              ".dl-inline>dt:not(:first-of-type) {padding-left: .5ex}\n",
              "</style><dl class=dl-inline><dt>asparagus</dt><dd>0.48</dd><dt>avocado</dt><dd>3.33</dd><dt>babies food</dt><dd>0.45</dd><dt>bacon</dt><dd>0.87</dd><dt>barbecue sauce</dt><dd>1.08</dd><dt>black tea</dt><dd>1.43</dd></dl>\n"
            ]
          },
          "metadata": {}
        }
      ]
    },
    {
      "cell_type": "code",
      "metadata": {
        "colab": {
          "base_uri": "https://localhost:8080/",
          "height": 399
        },
        "id": "R5vmTu_WnLOC",
        "outputId": "b6a5be9e-8315-4bc8-97cc-f3adc80214f3"
      },
      "source": [
        "\n",
        "# Build the model\n",
        "# model 1 : support =0.001 and confidence = 0.8\n",
        "\n",
        "sales.rules <- apriori (Transactions, parameter = list(supp = 0.001, conf = 0.8))\n",
        "sales.rules"
      ],
      "execution_count": null,
      "outputs": [
        {
          "output_type": "stream",
          "name": "stdout",
          "text": [
            "Apriori\n",
            "\n",
            "Parameter specification:\n",
            " confidence minval smax arem  aval originalSupport maxtime support minlen\n",
            "        0.8    0.1    1 none FALSE            TRUE       5   0.001      1\n",
            " maxlen target  ext\n",
            "     10  rules TRUE\n",
            "\n",
            "Algorithmic control:\n",
            " filter tree heap memopt load sort verbose\n",
            "    0.1 TRUE TRUE  FALSE TRUE    2    TRUE\n",
            "\n",
            "Absolute minimum support count: 7 \n",
            "\n",
            "set item appearances ...[0 item(s)] done [0.00s].\n",
            "set transactions ...[119 item(s), 7501 transaction(s)] done [0.00s].\n",
            "sorting and recoding items ... [116 item(s)] done [0.00s].\n",
            "creating transaction tree ... done [0.00s].\n",
            "checking subsets of size 1 2 3 4 5 6 done [0.01s].\n",
            "writing ... [74 rule(s)] done [0.00s].\n",
            "creating S4 object  ... done [0.00s].\n"
          ]
        },
        {
          "output_type": "display_data",
          "data": {
            "text/plain": [
              "set of 74 rules "
            ]
          },
          "metadata": {}
        }
      ]
    },
    {
      "cell_type": "markdown",
      "metadata": {
        "id": "H-bcwjzQncst"
      },
      "source": [
        "model 1 has 74 rules.\n",
        "\n",
        "model 2 : support =0.002 and confidence = 0.8"
      ]
    },
    {
      "cell_type": "code",
      "metadata": {
        "colab": {
          "base_uri": "https://localhost:8080/",
          "height": 399
        },
        "id": "T6nFFGWNnl54",
        "outputId": "eb5e4358-03f6-413c-edfa-d6e219b2f655"
      },
      "source": [
        "sales.rules2 <- apriori (Transactions, parameter = list(supp = 0.002, conf = 0.8))\n",
        "sales.rules2"
      ],
      "execution_count": null,
      "outputs": [
        {
          "output_type": "stream",
          "name": "stdout",
          "text": [
            "Apriori\n",
            "\n",
            "Parameter specification:\n",
            " confidence minval smax arem  aval originalSupport maxtime support minlen\n",
            "        0.8    0.1    1 none FALSE            TRUE       5   0.002      1\n",
            " maxlen target  ext\n",
            "     10  rules TRUE\n",
            "\n",
            "Algorithmic control:\n",
            " filter tree heap memopt load sort verbose\n",
            "    0.1 TRUE TRUE  FALSE TRUE    2    TRUE\n",
            "\n",
            "Absolute minimum support count: 15 \n",
            "\n",
            "set item appearances ...[0 item(s)] done [0.00s].\n",
            "set transactions ...[119 item(s), 7501 transaction(s)] done [0.00s].\n",
            "sorting and recoding items ... [115 item(s)] done [0.00s].\n",
            "creating transaction tree ... done [0.00s].\n",
            "checking subsets of size 1 2 3 4 5 done [0.00s].\n",
            "writing ... [2 rule(s)] done [0.00s].\n",
            "creating S4 object  ... done [0.00s].\n"
          ]
        },
        {
          "output_type": "display_data",
          "data": {
            "text/plain": [
              "set of 2 rules "
            ]
          },
          "metadata": {}
        }
      ]
    },
    {
      "cell_type": "markdown",
      "metadata": {
        "id": "oQwImMhFnoBf"
      },
      "source": [
        "model 2 has 2 rules which means alot of ossible rules will be overlooked. \n",
        "\n",
        "model 3 : support =0.002 and confidence = 0.6"
      ]
    },
    {
      "cell_type": "code",
      "metadata": {
        "colab": {
          "base_uri": "https://localhost:8080/",
          "height": 399
        },
        "id": "rRgkR-YnnvcZ",
        "outputId": "606394c9-c555-454c-8414-c48e7fcf9f5d"
      },
      "source": [
        "sales.rules3 <- apriori (Transactions, parameter = list(supp = 0.002, conf = 0.6))\n",
        "sales.rules3"
      ],
      "execution_count": null,
      "outputs": [
        {
          "output_type": "stream",
          "name": "stdout",
          "text": [
            "Apriori\n",
            "\n",
            "Parameter specification:\n",
            " confidence minval smax arem  aval originalSupport maxtime support minlen\n",
            "        0.6    0.1    1 none FALSE            TRUE       5   0.002      1\n",
            " maxlen target  ext\n",
            "     10  rules TRUE\n",
            "\n",
            "Algorithmic control:\n",
            " filter tree heap memopt load sort verbose\n",
            "    0.1 TRUE TRUE  FALSE TRUE    2    TRUE\n",
            "\n",
            "Absolute minimum support count: 15 \n",
            "\n",
            "set item appearances ...[0 item(s)] done [0.00s].\n",
            "set transactions ...[119 item(s), 7501 transaction(s)] done [0.00s].\n",
            "sorting and recoding items ... [115 item(s)] done [0.00s].\n",
            "creating transaction tree ... done [0.00s].\n",
            "checking subsets of size 1 2 3 4 5 done [0.00s].\n",
            "writing ... [43 rule(s)] done [0.00s].\n",
            "creating S4 object  ... done [0.00s].\n"
          ]
        },
        {
          "output_type": "display_data",
          "data": {
            "text/plain": [
              "set of 43 rules "
            ]
          },
          "metadata": {}
        }
      ]
    },
    {
      "cell_type": "markdown",
      "metadata": {
        "id": "vFcNEeqrnv69"
      },
      "source": [
        "model 3 produces 43 rules."
      ]
    },
    {
      "cell_type": "code",
      "metadata": {
        "colab": {
          "base_uri": "https://localhost:8080/",
          "height": 538
        },
        "id": "fauJXTbdn1UL",
        "outputId": "86dc43b1-41ef-46bb-9fba-edfa680ea1f4"
      },
      "source": [
        "# Exploring our model\n",
        "\n",
        "summary(sales.rules)"
      ],
      "execution_count": null,
      "outputs": [
        {
          "output_type": "display_data",
          "data": {
            "text/plain": [
              "set of 74 rules\n",
              "\n",
              "rule length distribution (lhs + rhs):sizes\n",
              " 3  4  5  6 \n",
              "15 42 16  1 \n",
              "\n",
              "   Min. 1st Qu.  Median    Mean 3rd Qu.    Max. \n",
              "  3.000   4.000   4.000   4.041   4.000   6.000 \n",
              "\n",
              "summary of quality measures:\n",
              "    support           confidence        coverage             lift       \n",
              " Min.   :0.001067   Min.   :0.8000   Min.   :0.001067   Min.   : 3.356  \n",
              " 1st Qu.:0.001067   1st Qu.:0.8000   1st Qu.:0.001333   1st Qu.: 3.432  \n",
              " Median :0.001133   Median :0.8333   Median :0.001333   Median : 3.795  \n",
              " Mean   :0.001256   Mean   :0.8504   Mean   :0.001479   Mean   : 4.823  \n",
              " 3rd Qu.:0.001333   3rd Qu.:0.8889   3rd Qu.:0.001600   3rd Qu.: 4.877  \n",
              " Max.   :0.002533   Max.   :1.0000   Max.   :0.002666   Max.   :12.722  \n",
              "     count       \n",
              " Min.   : 8.000  \n",
              " 1st Qu.: 8.000  \n",
              " Median : 8.500  \n",
              " Mean   : 9.419  \n",
              " 3rd Qu.:10.000  \n",
              " Max.   :19.000  \n",
              "\n",
              "mining info:\n",
              "         data ntransactions support confidence\n",
              " Transactions          7501   0.001        0.8\n",
              "                                                                     call\n",
              " apriori(data = Transactions, parameter = list(supp = 0.001, conf = 0.8))"
            ]
          },
          "metadata": {}
        }
      ]
    },
    {
      "cell_type": "code",
      "metadata": {
        "colab": {
          "base_uri": "https://localhost:8080/"
        },
        "id": "1PdLMYM3n7u7",
        "outputId": "449ca19d-b696-49d4-bf48-9bb0f5989ac6"
      },
      "source": [
        "# Observing rules built in our model\n",
        "\n",
        "inspect(sales.rules[1:5])"
      ],
      "execution_count": null,
      "outputs": [
        {
          "output_type": "stream",
          "name": "stdout",
          "text": [
            "    lhs                              rhs             support     confidence\n",
            "[1] {frozen smoothie, spinach}    => {mineral water} 0.001066524 0.8888889 \n",
            "[2] {bacon, pancakes}             => {spaghetti}     0.001733102 0.8125000 \n",
            "[3] {nonfat milk, turkey}         => {mineral water} 0.001199840 0.8181818 \n",
            "[4] {ground beef, nonfat milk}    => {mineral water} 0.001599787 0.8571429 \n",
            "[5] {mushroom cream sauce, pasta} => {escalope}      0.002532996 0.9500000 \n",
            "    coverage    lift      count\n",
            "[1] 0.001199840  3.729058  8   \n",
            "[2] 0.002133049  4.666587 13   \n",
            "[3] 0.001466471  3.432428  9   \n",
            "[4] 0.001866418  3.595877 12   \n",
            "[5] 0.002666311 11.976387 19   \n"
          ]
        }
      ]
    },
    {
      "cell_type": "code",
      "metadata": {
        "colab": {
          "base_uri": "https://localhost:8080/",
          "height": 538
        },
        "id": "0zxwN988n_sL",
        "outputId": "296e3941-7d5d-4592-ea00-50bbf2b62c4e"
      },
      "source": [
        "summary(sales.rules)"
      ],
      "execution_count": null,
      "outputs": [
        {
          "output_type": "display_data",
          "data": {
            "text/plain": [
              "set of 74 rules\n",
              "\n",
              "rule length distribution (lhs + rhs):sizes\n",
              " 3  4  5  6 \n",
              "15 42 16  1 \n",
              "\n",
              "   Min. 1st Qu.  Median    Mean 3rd Qu.    Max. \n",
              "  3.000   4.000   4.000   4.041   4.000   6.000 \n",
              "\n",
              "summary of quality measures:\n",
              "    support           confidence        coverage             lift       \n",
              " Min.   :0.001067   Min.   :0.8000   Min.   :0.001067   Min.   : 3.356  \n",
              " 1st Qu.:0.001067   1st Qu.:0.8000   1st Qu.:0.001333   1st Qu.: 3.432  \n",
              " Median :0.001133   Median :0.8333   Median :0.001333   Median : 3.795  \n",
              " Mean   :0.001256   Mean   :0.8504   Mean   :0.001479   Mean   : 4.823  \n",
              " 3rd Qu.:0.001333   3rd Qu.:0.8889   3rd Qu.:0.001600   3rd Qu.: 4.877  \n",
              " Max.   :0.002533   Max.   :1.0000   Max.   :0.002666   Max.   :12.722  \n",
              "     count       \n",
              " Min.   : 8.000  \n",
              " 1st Qu.: 8.000  \n",
              " Median : 8.500  \n",
              " Mean   : 9.419  \n",
              " 3rd Qu.:10.000  \n",
              " Max.   :19.000  \n",
              "\n",
              "mining info:\n",
              "         data ntransactions support confidence\n",
              " Transactions          7501   0.001        0.8\n",
              "                                                                     call\n",
              " apriori(data = Transactions, parameter = list(supp = 0.001, conf = 0.8))"
            ]
          },
          "metadata": {}
        }
      ]
    },
    {
      "cell_type": "markdown",
      "metadata": {
        "id": "zUvi563goFxL"
      },
      "source": [
        "### Recommendations.\n",
        "The best set of rules is model 3 with a support of 0.002 and confidence of 0.6.\n",
        "\n",
        "\n",
        "### Follow up questions.\n",
        "#### Did we have enough data for the study?\n",
        "yes\n",
        "\n",
        "#### Was the data relevant?\n",
        "yes"
      ]
    }
  ]
}